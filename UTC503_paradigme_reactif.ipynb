{
  "nbformat": 4,
  "nbformat_minor": 0,
  "metadata": {
    "colab": {
      "name": "UTC503_paradigme_reactif.ipynb",
      "private_outputs": true,
      "provenance": [],
      "collapsed_sections": [],
      "authorship_tag": "ABX9TyPoCcqPioCPFGR9LQ1Odd2t",
      "include_colab_link": true
    },
    "kernelspec": {
      "name": "python3",
      "display_name": "Python 3"
    }
  },
  "cells": [
    {
      "cell_type": "markdown",
      "metadata": {
        "id": "view-in-github",
        "colab_type": "text"
      },
      "source": [
        "<a href=\"https://colab.research.google.com/github/lipug/collab/blob/main/UTC503_paradigme_reactif.ipynb\" target=\"_parent\"><img src=\"https://colab.research.google.com/assets/colab-badge.svg\" alt=\"Open In Colab\"/></a>"
      ]
    },
    {
      "cell_type": "markdown",
      "metadata": {
        "id": "6A7UVQOq9JAg"
      },
      "source": [
        "Le départ : Le pattern Observer"
      ]
    },
    {
      "cell_type": "markdown",
      "metadata": {
        "id": "o32MqltfC-xm"
      },
      "source": [
        "# Différence entre pattern observer et paradigme réactif\r\n",
        "Une façon simple de le dire est que la programmation réactive est ce qui va au-delà de l'utilisation du modèle d'observateur avec ses \"callbacks\" et \"listeners\". Avec la programmation réactive, il est supposé qu'il existe un niveau d'automatisation plus élevé où la plate-forme gère toutes les données et les dépendances de l'interface utilisateur. Donc, en règle générale, si le modèle d'observateur est utilisé, il ne s'agit pas d'un système réactif.\r\n",
        "\r\n",
        "Une autre façon de savoir si un paradigme de programmation est réactif ou non, est si vous écrivez du code qui met à jour les structures de données et les composants de l'interface utilisateur, ou si vous écrivez du code qui semble créer uniquement les composants de l'interface utilisateur. D'où:\r\n",
        "\r\n",
        "* Programmation non réactive: code qui crée l'interface utilisateur + code qui met à jour l'interface utilisateur.\r\n",
        "* Programmation réactive: un bloc de code qui crée l'interface utilisateur (qui sera également utilisé pour les mises à jour)\r\n",
        "\r\n",
        "Par exemple, un moyen non réactif de mettre à jour votre interface utilisateur est d'avoir un écouteur d'événements pour écouter un clic sur un bouton, et si l'utilisateur clique sur ce bouton, alors vous trouvez l'endroit approprié dans le DOM, où vous définissez une propriété , ajoutez un enfant ou ajoutez une classe pour pour que quelque chose se produise.\r\n",
        "\r\n",
        "Réactiver la même chose consiste à lier l'état du bouton à une variable de mode d'affichage, puis à lier à son tour la propriété que vous souhaitez modifier à cette variable de mode d'affichage. Ensuite, lorsque l'utilisateur appuie sur le bouton, le système saura automatiquement comment mettre à jour le DOM.\r\n",
        "\r\n",
        "Les exemples modernes et populaires de programmation réactive sont React et Angular. La chose qui rend React réactif par exemple, c'est que chaque composant déclare sa fonction \"render\" pour construire l'interface utilisateur d'un composant. L'essentiel est que cette fonction de rendu sera utilisée à LA FOIS lorsque le composant est initialement rendu, mais aussi lorsque des changements dans l'état des données / de l'interface utilisateur entraîneront des modifications dans l'interface utilisateur."
      ]
    },
    {
      "cell_type": "code",
      "metadata": {
        "id": "rrefNnn9-2B6"
      },
      "source": [
        "%%bash\r\n",
        "pip install rx"
      ],
      "execution_count": null,
      "outputs": []
    },
    {
      "cell_type": "code",
      "metadata": {
        "id": "Xaf55c73-9RL"
      },
      "source": [
        "import rx\r\n",
        "dir(rx)"
      ],
      "execution_count": null,
      "outputs": []
    },
    {
      "cell_type": "markdown",
      "metadata": {
        "id": "VdnG4XbMFjNc"
      },
      "source": [
        "## Un exemple pradigme réactif\r\n",
        "\r\n",
        "---\r\n",
        "\r\n"
      ]
    },
    {
      "cell_type": "code",
      "metadata": {
        "id": "QJIVRFsTFSU2"
      },
      "source": [
        "from rx import create\r\n",
        "\r\n",
        "def push_five_strings(observer, scheduler):\r\n",
        "    observer.on_next(\"Alpha\")\r\n",
        "    observer.on_next(\"Beta\")\r\n",
        "    observer.on_next(\"Gamma\")\r\n",
        "    observer.on_next(\"Delta\")\r\n",
        "    observer.on_next(\"Epsilon\")\r\n",
        "    observer.on_completed()\r\n",
        "\r\n",
        "source = create(push_five_strings)\r\n",
        "\r\n",
        "source.subscribe(\r\n",
        "    on_next = lambda i: print(\"Received {i}\")),\r\n",
        "    on_error = lambda e: print(\"Error Occurred: {e}\"),\r\n",
        "    on_completed = lambda: print(\"Done!\"),\r\n",
        ")"
      ],
      "execution_count": null,
      "outputs": []
    },
    {
      "cell_type": "code",
      "metadata": {
        "id": "9VrE4s3kFWGD"
      },
      "source": [
        "from rx import of\r\n",
        "\r\n",
        "source = of(\"Alpha\", \"Beta\", \"Gamma\", \"Delta\", \"Epsilon\")\r\n",
        "\r\n",
        "source.subscribe(\r\n",
        "    on_next = lambda i: print(\"Received {0}\".format(i)),\r\n",
        "    on_error = lambda e: print(\"Error Occurred: {0}\".format(e)),\r\n",
        "    on_completed = lambda: print(\"Done!\"),\r\n",
        ")"
      ],
      "execution_count": null,
      "outputs": []
    },
    {
      "cell_type": "code",
      "metadata": {
        "id": "LAb8MGtLF9V0"
      },
      "source": [
        "from rx import of, operators as op\r\n",
        "\r\n",
        "source = of(\"Alpha\", \"Beta\", \"Gamma\", \"Delta\", \"Epsilon\")\r\n",
        "\r\n",
        "composed = source.pipe(\r\n",
        "    op.map(lambda s: len(s)),\r\n",
        "    op.filter(lambda i: i >= 5)\r\n",
        ")\r\n",
        "composed.subscribe(lambda value: print(f\"Received {value}\"))"
      ],
      "execution_count": null,
      "outputs": []
    },
    {
      "cell_type": "markdown",
      "metadata": {
        "id": "dvvyLJSMFbFN"
      },
      "source": [
        "## Un exemple de  pattern obeserver"
      ]
    },
    {
      "cell_type": "code",
      "metadata": {
        "id": "7-yUHkgh9EP7"
      },
      "source": [
        "class Observable:\r\n",
        "    def __init__(self) -> None:\r\n",
        "        self._observers = []\r\n",
        "    \r\n",
        "    def register_observer(self, observer) -> None:\r\n",
        "        self._observers.append(observer)\r\n",
        "    \r\n",
        "    def notify_observers(self, *args, **kwargs) -> None:\r\n",
        "        for observer in self._observers:\r\n",
        "            observer.notify(self, *args, **kwargs)\r\n",
        "\r\n",
        "class Observer:\r\n",
        "    def __init__(self, observable) -> None:\r\n",
        "        observable.register_observer(self)\r\n",
        "    \r\n",
        "    def notify(self, observable, *args, **kwargs) -> None:\r\n",
        "        print(\"Got\", args, kwargs, \"From\", observable)\r\n",
        "\r\n",
        "\r\n",
        "subject = Observable()\r\n",
        "observer = Observer(subject)\r\n",
        "subject.notify_observers(\"test\")"
      ],
      "execution_count": null,
      "outputs": []
    }
  ]
}