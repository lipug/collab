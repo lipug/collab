{
  "nbformat": 4,
  "nbformat_minor": 0,
  "metadata": {
    "colab": {
      "name": "java_aussi.ipynb",
      "provenance": []
    },
    "kernelspec": {
      "name": "Java ",
      "display_name": "Java"
    }
  },
  "cells": [
    {
      "cell_type": "code",
      "metadata": {
        "id": "fC_W3lvf7ada"
      },
      "source": [
        "!wget –quiet https://github.com/SpencerPark/IJava/releases/download/v1.3.0/ijava-1.3.0.zip"
      ],
      "execution_count": null,
      "outputs": []
    },
    {
      "cell_type": "code",
      "metadata": {
        "id": "0ajUq_8E9YgD"
      },
      "source": [
        "!unzip  ijava-1.3.0.zip"
      ],
      "execution_count": null,
      "outputs": []
    },
    {
      "cell_type": "code",
      "metadata": {
        "colab": {
          "base_uri": "https://localhost:8080/"
        },
        "id": "JK-zepmB9fOc",
        "outputId": "0ec7c28c-7b87-4427-a554-e547d00dea53"
      },
      "source": [
        "!python3 install.py --sys-prefix "
      ],
      "execution_count": 6,
      "outputs": [
        {
          "output_type": "stream",
          "text": [
            "Installed java kernel into \"/usr/share/jupyter/kernels/java\"\n"
          ],
          "name": "stdout"
        }
      ]
    },
    {
      "cell_type": "code",
      "metadata": {
        "id": "8Y1M2X0f9v-D"
      },
      "source": [
        ""
      ],
      "execution_count": null,
      "outputs": []
    }
  ]
}