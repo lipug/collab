{
  "nbformat": 4,
  "nbformat_minor": 0,
  "metadata": {
    "colab": {
      "name": "java_aussi.ipynb",
      "provenance": [],
      "include_colab_link": true
    },
    "kernelspec": {
      "name": "python3",
      "display_name": "Python 3"
    }
  },
  "cells": [
    {
      "cell_type": "markdown",
      "metadata": {
        "id": "view-in-github",
        "colab_type": "text"
      },
      "source": [
        "<a href=\"https://colab.research.google.com/github/lipug/collab/blob/main/java_aussi.ipynb\" target=\"_parent\"><img src=\"https://colab.research.google.com/assets/colab-badge.svg\" alt=\"Open In Colab\"/></a>"
      ]
    },
    {
      "cell_type": "markdown",
      "metadata": {
        "id": "62Yy5ND4CZ0Z"
      },
      "source": [
        "# Run the next cell\r\n",
        "\r\n",
        "This notebook must be loaded from https://github.com/lipug/collab/blob/main/java_aussi.ipynb (will not work if newly created directly in google collab)"
      ]
    },
    {
      "cell_type": "code",
      "metadata": {
        "id": "fC_W3lvf7ada"
      },
      "source": [
        "!wget –quiet https://github.com/SpencerPark/IJava/releases/download/v1.3.0/ijava-1.3.0.zip 1>/null\r\n",
        "!unzip  -q ijava-1.3.0.zip\r\n",
        "!python3 install.py --sys-prefix "
      ],
      "execution_count": null,
      "outputs": []
    },
    {
      "cell_type": "markdown",
      "metadata": {
        "id": "CYY6paHtCzm-"
      },
      "source": [
        "# The reconnect \r\n",
        "\r\n",
        "![ijava reconnect](https://github.com/lipug/collab/raw/main/reconnect_local_after_ijava.png)"
      ]
    }
  ]
}